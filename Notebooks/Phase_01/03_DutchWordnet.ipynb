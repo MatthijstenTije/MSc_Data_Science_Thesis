{
 "cells": [
  {
   "cell_type": "code",
   "execution_count": 45,
   "metadata": {},
   "outputs": [],
   "source": [
    "import sys\n",
    "sys.path.append('/Users/matthijstentije/OpenDutchWordnet')\n",
    "\n",
    "from __init__ import Wn_grid_parser"
   ]
  },
  {
   "cell_type": "code",
   "execution_count": 46,
   "metadata": {},
   "outputs": [],
   "source": [
    "self = Wn_grid_parser(Wn_grid_parser.odwn)"
   ]
  },
  {
   "cell_type": "code",
   "execution_count": 47,
   "metadata": {},
   "outputs": [],
   "source": [
    "instance = Wn_grid_parser(Wn_grid_parser.odwn)"
   ]
  },
  {
   "cell_type": "code",
   "execution_count": 48,
   "metadata": {},
   "outputs": [],
   "source": [
    "adjectives = [le.get_lemma() for le in instance.les_get_generator() if le.get_pos() == 'adjective']"
   ]
  },
  {
   "cell_type": "code",
   "execution_count": 50,
   "metadata": {},
   "outputs": [
    {
     "data": {
      "text/plain": [
       "[<le.Le at 0x3410ca960>,\n",
       " <le.Le at 0x340d21250>,\n",
       " <le.Le at 0x34196d820>,\n",
       " <le.Le at 0x34090cfb0>,\n",
       " <le.Le at 0x3410ca630>]"
      ]
     },
     "execution_count": 50,
     "metadata": {},
     "output_type": "execute_result"
    }
   ],
   "source": [
    "instance.lemma_get_generator(\"man\")"
   ]
  },
  {
   "cell_type": "code",
   "execution_count": 52,
   "metadata": {},
   "outputs": [
    {
     "data": {
      "text/plain": [
       "[[],\n",
       " [],\n",
       " [],\n",
       " [<le.Le at 0x3410ca9f0>, <le.Le at 0x3410caea0>, <le.Le at 0x341098950>],\n",
       " []]"
      ]
     },
     "execution_count": 52,
     "metadata": {},
     "output_type": "execute_result"
    }
   ],
   "source": [
    "check = ['zorgzaam', 'sterk', 'ijdel', 'lief', 'schattig']\n",
    "check_words = [instance.lemma_get_generator(word) for word in check]\n",
    "check_words"
   ]
  },
  {
   "cell_type": "code",
   "execution_count": 119,
   "metadata": {},
   "outputs": [
    {
     "name": "stdout",
     "output_type": "stream",
     "text": [
      "Woord: man - Woordsoort: noun - Synset ID: eng-30-10193967-n\n",
      "Woord: man - Woordsoort: noun - Synset ID: eng-30-01321230-n\n",
      "Woord: man - Woordsoort: noun - Synset ID: eng-30-00007846-n\n",
      "Woord: man - Woordsoort: noun - Synset ID: eng-30-10287213-n\n",
      "Woord: man - Woordsoort: noun - Synset ID: odwn-10-109967524-n\n",
      "<synset.Synset object at 0x15adf6330>\n",
      "<synset.Synset object at 0x1600f1280>\n",
      "<synset.Synset object at 0x1600f17c0>\n",
      "<synset.Synset object at 0x1600f1730>\n",
      "<synset.Synset object at 0x3410ca7e0>\n",
      "<synset.Synset object at 0x3410ca7e0>\n",
      "<synset.Synset object at 0x160104da0>\n",
      "<synset.Synset object at 0x15b800920>\n",
      "<synset.Synset object at 0x3413d2c30>\n",
      "<synset.Synset object at 0x341d1e4b0>\n"
     ]
    }
   ],
   "source": [
    "alle_man_varianten = [le for le in instance.les_get_generator() if le.get_lemma() == \"man\"]\n",
    "\n",
    "# Extract all the entries with \"man\" and \"woman \"\n",
    "man_entries = [(le) for le in instance.les_get_generator() if le.get_lemma() == \"man\"]\n",
    "vrouw_entries = [le for le in instance.les_get_generator() if le.get_lemma() == \"vrouw\"]\n",
    "\n",
    "# Get an imporession of word, Point of Speech and synset id\n",
    "for le in man_entries:\n",
    "    print(f\"Woord: {le.get_lemma()} - Woordsoort: {le.get_pos()} - Synset ID: {le.get_synset_id()}\")\n",
    "\n",
    "# extract de synset-ID's\n",
    "man_synset_ids = set(le.get_synset_id() for le in man_entries if le.get_synset_id() is not None) # set extract unique entries\n",
    "vrouw_synset_ids = set(le.get_synset_id() for le in vrouw_entries if le.get_synset_id() is not None)\n",
    "\n",
    "    \n",
    "def get_synset_info(instance, synset_id):\n",
    "    synset = instance.synsets_find_synset(synset_id)\n",
    "    print(synset)\n",
    "    info = {}\n",
    "    # Extract definition\n",
    "    try:\n",
    "        info['definitie'] = synset.get_glosses()\n",
    "    except AttributeError:\n",
    "        info['definitie'] = \"Definitie niet beschikbaar\"\n",
    "    \n",
    "    # Look if there are hypernonyms\n",
    "    try:\n",
    "        hyper_rel = synset.get_relations(\"has_hyperonym\")\n",
    "        info['hyperoniemen'] = [rel.get_target() for rel in hyper_rel]\n",
    "    except AttributeError:\n",
    "        info['hyperoniemen'] = []\n",
    "    try:\n",
    "        hyper_rel = synset.get_relations(\"has_hyponym\")\n",
    "        info['hyponym'] = [rel.get_target() for rel in hyper_rel]\n",
    "    except AttributeError:\n",
    "        info['hyponym'] = [] \n",
    "    \n",
    "    return info\n",
    "\n",
    "man_synset_info = {sid: get_synset_info(instance, sid) for sid in man_synset_ids}\n",
    "vrouw_synset_info = {sid: get_synset_info(instance, sid) for sid in vrouw_synset_ids}\n"
   ]
  },
  {
   "cell_type": "code",
   "execution_count": 110,
   "metadata": {},
   "outputs": [
    {
     "name": "stdout",
     "output_type": "stream",
     "text": [
      "['kerel', 'mens', 'guy', 'vent', 'man']\n"
     ]
    }
   ],
   "source": [
    "def extract_single_dutch_words(synset_info):\n",
    "    \"\"\" Extracts only single Dutch words from the first definition of a given synset dictionary. \"\"\"\n",
    "    words = synset_info.get('eng-30-10287213-n', {}).get('definitie', [])\n",
    "    \n",
    "    # Remove duplicates\n",
    "    words = list(set(words))  \n",
    "    \n",
    "    # Keep only single words (no phrases)\n",
    "    single_words = [word for word in words if \" \" not in word]  \n",
    "    \n",
    "    return single_words\n",
    "\n",
    "# Run the function\n",
    "single_words = extract_single_dutch_words(man_synset_info)\n",
    "\n",
    "# Print the result\n",
    "print(single_words)\n"
   ]
  },
  {
   "cell_type": "code",
   "execution_count": 116,
   "metadata": {},
   "outputs": [
    {
     "name": "stdout",
     "output_type": "stream",
     "text": [
      "Woorden binnen het centroid-synset voor 'man': ['man', 'echtgenoot']\n",
      "Aangrenzende woorden (hyponiemen) rondom 'man': ['pater familias', 'hoorndrager', 'huisvader', 'mijnheer']\n"
     ]
    }
   ],
   "source": [
    "# Stap 1: Maak een instantie van de parser\n",
    "instance = Wn_grid_parser(Wn_grid_parser.odwn)\n",
    "\n",
    "# Stap 2: Verzamel alle lexicale eenheden (lemmas) met het lemma \"man\"\n",
    "man_entries = [le for le in instance.les_get_generator() if le.get_lemma() == \"man\"]\n",
    "\n",
    "# Stap 3: Groepeer de gevonden entries per synset-ID\n",
    "from collections import defaultdict\n",
    "synset_entries = defaultdict(list)\n",
    "for le in man_entries:\n",
    "    synset_entries[le.get_synset_id()].append(le)\n",
    "\n",
    "# (Handmatige inspectie of extra statistieken kunnen helpen bepalen welke synset de 'centroid' is)\n",
    "# Stel dat we, na inspectie, concluderen dat synset_id 'eng-30-00007846-n' de centrale betekenis bevat.\n",
    "centroid_synset_id = 'eng-30-10193967-n'\n",
    "centroid_synset = instance.synsets_find_synset(centroid_synset_id)\n",
    "\n",
    "# Stap 4: Haal alle woorden (lexicale eenheden) op uit de centroid-synset\n",
    "centroid_entries = [le for le in instance.les_get_generator() if le.get_synset_id() == centroid_synset_id]\n",
    "centroid_woorden = list(set(le.get_lemma() for le in centroid_entries))\n",
    "print(\"Woorden binnen het centroid-synset voor 'man':\", centroid_woorden)\n",
    "\n",
    "# Stap 5: Breid de verzameling uit met aangrenzende termen via hyponiem-relaties\n",
    "hyponiem_relations = centroid_synset.get_relations(\"has_hyponym\")\n",
    "nabijgelegen_woorden = []\n",
    "for rel in hyponiem_relations:\n",
    "    naburige_synset = instance.synsets_find_synset(rel.get_target())\n",
    "    if naburige_synset:\n",
    "        # Haal de woorden uit deze aangrenzende synset op\n",
    "        ns_entries = [le for le in instance.les_get_generator() if le.get_synset_id() == naburige_synset.get_id()]\n",
    "        nabijgelegen_woorden.extend([le.get_lemma() for le in ns_entries])\n",
    "nabijgelegen_woorden = list(set(nabijgelegen_woorden))\n",
    "print(\"Aangrenzende woorden (hyponiemen) rondom 'man':\", nabijgelegen_woorden)\n"
   ]
  }
 ],
 "metadata": {
  "kernelspec": {
   "display_name": "Python 3",
   "language": "python",
   "name": "python3"
  },
  "language_info": {
   "codemirror_mode": {
    "name": "ipython",
    "version": 3
   },
   "file_extension": ".py",
   "mimetype": "text/x-python",
   "name": "python",
   "nbconvert_exporter": "python",
   "pygments_lexer": "ipython3",
   "version": "3.12.1"
  }
 },
 "nbformat": 4,
 "nbformat_minor": 2
}
